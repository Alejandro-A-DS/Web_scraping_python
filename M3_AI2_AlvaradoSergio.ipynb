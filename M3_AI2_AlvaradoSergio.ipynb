{
  "nbformat": 4,
  "nbformat_minor": 0,
  "metadata": {
    "colab": {
      "provenance": [],
      "authorship_tag": "ABX9TyNpIbTJdvxA0C0qoTPGCZxI",
      "include_colab_link": true
    },
    "kernelspec": {
      "name": "python3",
      "display_name": "Python 3"
    },
    "language_info": {
      "name": "python"
    }
  },
  "cells": [
    {
      "cell_type": "markdown",
      "metadata": {
        "id": "view-in-github",
        "colab_type": "text"
      },
      "source": [
        "<a href=\"https://colab.research.google.com/github/Alejandro-A-DS/Web_scraping_python/blob/main/M3_AI2_AlvaradoSergio.ipynb\" target=\"_parent\"><img src=\"https://colab.research.google.com/assets/colab-badge.svg\" alt=\"Open In Colab\"/></a>"
      ]
    },
    {
      "cell_type": "markdown",
      "source": [
        "#Tarea 3.2: Web Scraping de Películas\n",
        "---\n",
        "El objetivo de esta actividad es obtener información sobre las películas a partir de la base de datos de [IMDB](https://www.imdb.com/). En concreto se pide mostrar los siguientes datos de las primeras 50 películas de del género Comedia en español:\n",
        "- Nombre: Nombre de la película.\n",
        "- Rating: Puntuación media de la película en IMDB (si la tiene).\n",
        "- Votos: Número de votos.\n",
        "\n",
        "A partir de la siguiente URL donde se lista las comedias (comedy) en español (spanish): https://www.imdb.com/search/title/?genres=comedy&languages=es contesta las siguientes preguntas:\n",
        "1. Mediante el inspector de código del navegador, obtén y anota el selector CSS de los siguientes datos de la primera película:\n",
        "\n",
        "* Nombre\n",
        "\n",
        "* Puntuación del Rating (estrellas) de IMDB.\n",
        "\n",
        "* Número de votos (votes).\n",
        "\n",
        "2. Identifica la parte común a los 3 selectores CSS del apartado 1 y la parte específica (última parte no común del selector CSS).\n",
        "\n",
        "3. Construye la estructura de árbol de nodos sobre la página de búsqueda proporcionada al inicio del ejercicio:  tree = html.document_fromstring(source.read())\n",
        "\n",
        "4. Crea una lista de resultados la siguiente consulta CSS:  \n",
        "resultado = tree.cssselect(\"div.lister-item-content\")\n",
        "¿Cuántos elementos tiene tu lista? :  len(resultado)\n",
        "\n",
        "5. Construye un bucle que recorra la lista: resultado y que en cada elemento: resultado_i de la lista, realice 3 búsquedas: busquea_1, búsqueda_2 y búsqueda_3, una para cada selector CSS, utilizando sólo la parte específica del selector del apartado 2.\n",
        "\n",
        "6. Para cada búsqueda realizada: busquea_1, búsqueda_2 y búsqueda_3, revisa si la nueva lista obtenida tiene longitud mayor que cero y en caso positivo, selecciona el primer elemento de la lista y haz un print de su contenido de texto: busquea_1[0].text_content()\n",
        "\n",
        "7. Guarda los resultados obtenidos de forma iterativa en un data frame que tenga como resultado 50 filas y las 3 columnas con los datos solicitados en el apartado 1."
      ],
      "metadata": {
        "id": "9ueLDzr1yiHH"
      }
    },
    {
      "cell_type": "markdown",
      "source": [
        "## 3.2.1 Mediante el inspector de código del navegador, obtén y anota el selector CSS de los siguientes datos de la primera película:\n",
        "* Nombre.\n",
        "* Puntuación del Rating (estrellas) de IMDB.\n",
        "* Número de Votos.\n",
        "---\n",
        "Abriendo el inspector de código de la página en español y revisar el código HTML del nombre, el rating y el número de votos se obtienen los siguientes selectores de css:\n",
        "\n",
        "1. **Nombre**: main > div > div.lister.list.detail.sub-list > div > div:nth-child(1) > div.lister-item-content > h3 > a\n",
        "2. **Rating**: main > div > div.lister.list.detail.sub-list > div > div:nth-child(1) > div.lister-item-content > div > div.inline-block.ratings-imdb-rating > strong\n",
        "3. **Votos**: main > div > div.lister.list.detail.sub-list > div > div:nth-child(1) > div.lister-item-content > p.sort-num_votes-visible > span:nth-child(2)"
      ],
      "metadata": {
        "id": "raaxGeDFblRC"
      }
    },
    {
      "cell_type": "markdown",
      "source": [
        "## 3.2.2  Identifica la parte común a los 3 selectores CSS del apartado 1 y la parte específica (última parte no común del selector CSS).\n",
        "---\n",
        "La parte común entre los 3 selectores css es:\n",
        "\n",
        "* main > div > div.lister.list.detail.sub-list > div > div:nth-child(1) > div.lister-item-content\n",
        "\n",
        "La parte específica para cada selector css del nombre de la primera película es:\n",
        "\n",
        "* h3 > a\n",
        "\n",
        "La parte específica para cada selector css del rating de la primera película es:\n",
        "\n",
        "* div > div.inline-block.ratings-imdb-rating > strong\n",
        "\n",
        "La parte específica para cada selector css del número de votos de la película es:\n",
        "\n",
        "* p.sort-num_votes-visible > span:nth-child(2)"
      ],
      "metadata": {
        "id": "RYaUycIhVRxT"
      }
    },
    {
      "cell_type": "markdown",
      "source": [
        "##3.2.3 Construye la estructura de árbol de nodos sobre la página de búsqueda proporcionada al inicio del ejercicio:  tree = html.document_fromstring(source.read())\n",
        "---\n",
        "Para crear el objeto `tree` es necesario instalar la librería `cssselect` e importar las librerías `urllib` y `lxml`:"
      ],
      "metadata": {
        "id": "SNiPTVgGfpUR"
      }
    },
    {
      "cell_type": "code",
      "source": [
        "# Instalación de la librería cssselect\n",
        "\n",
        "!pip install cssselect"
      ],
      "metadata": {
        "colab": {
          "base_uri": "https://localhost:8080/"
        },
        "id": "vopbABwMapIw",
        "outputId": "acff41f6-4635-4f86-f9c7-45cf03b815fa"
      },
      "execution_count": null,
      "outputs": [
        {
          "output_type": "stream",
          "name": "stdout",
          "text": [
            "Looking in indexes: https://pypi.org/simple, https://us-python.pkg.dev/colab-wheels/public/simple/\n",
            "Collecting cssselect\n",
            "  Downloading cssselect-1.2.0-py2.py3-none-any.whl (18 kB)\n",
            "Installing collected packages: cssselect\n",
            "Successfully installed cssselect-1.2.0\n"
          ]
        }
      ]
    },
    {
      "cell_type": "code",
      "source": [
        "# Librerías necesarias para la elaboración del ejercicio\n",
        "\n",
        "from urllib.request import urlopen\n",
        "\n",
        "source = urlopen('https://www.imdb.com/search/title/?genres=comedy&languages=es')\n",
        "\n",
        "from lxml import html\n",
        "from lxml import cssselect\n",
        "import numpy as np\n",
        "import pandas as pd"
      ],
      "metadata": {
        "id": "d9ITT8DcadIZ"
      },
      "execution_count": null,
      "outputs": []
    },
    {
      "cell_type": "code",
      "source": [
        "# objeto tree\n",
        "\n",
        "tree = html.document_fromstring(source.read())"
      ],
      "metadata": {
        "id": "Qe-qzWAagSH5"
      },
      "execution_count": null,
      "outputs": []
    },
    {
      "cell_type": "markdown",
      "source": [
        "## 3.2.4 Crea una lista de resultados la siguiente consulta CSS:  `resultado = tree.cssselect(\"div.lister-item-content\")` ¿Cuántos elementos tiene tu lista? :  `len(resultado)`\n",
        "---\n"
      ],
      "metadata": {
        "id": "tBVt2S8YgWJX"
      }
    },
    {
      "cell_type": "code",
      "source": [
        "# Objeto resultado\n",
        "\n",
        "resultado = tree.cssselect(\"div.lister-item-content\")"
      ],
      "metadata": {
        "id": "vitV6_qBgrnJ"
      },
      "execution_count": null,
      "outputs": []
    },
    {
      "cell_type": "code",
      "source": [
        "# Número de elementos de resultado\n",
        "\n",
        "print(f\"Número de elementos en resultado: {len(resultado)}\")"
      ],
      "metadata": {
        "colab": {
          "base_uri": "https://localhost:8080/"
        },
        "id": "-NPClUJcgzfo",
        "outputId": "f29e5871-d9e2-480f-ee51-2312214c3214"
      },
      "execution_count": null,
      "outputs": [
        {
          "output_type": "stream",
          "name": "stdout",
          "text": [
            "Número de elementos en resultado: 50\n"
          ]
        }
      ]
    },
    {
      "cell_type": "markdown",
      "source": [
        "## 3.2.5 Construye un bucle que recorra la lista: resultado y que en cada elemento: resultado_i de la lista, realice 3 búsquedas: busquea_1, búsqueda_2 y búsqueda_3, una para cada selector CSS, utilizando sólo la parte específica del selector del apartado 2.\n",
        "---\n",
        "Antes de realizar el bucle que recorra el elemento `resultado` se va a hacer la selección del nombre, rating y número de votos para la primera película:"
      ],
      "metadata": {
        "id": "Ke20t7uChBkA"
      }
    },
    {
      "cell_type": "code",
      "source": [
        "# Nombre de la primera película\n",
        "\n",
        "resultado[0].findall('h3')[0].findall(\"a\")[0].text_content()"
      ],
      "metadata": {
        "colab": {
          "base_uri": "https://localhost:8080/",
          "height": 35
        },
        "id": "RuM8CcHFhGsQ",
        "outputId": "e5b86f5d-2b6d-4622-d978-8fc58b91b565"
      },
      "execution_count": null,
      "outputs": [
        {
          "output_type": "execute_result",
          "data": {
            "text/plain": [
              "'Babylon'"
            ],
            "application/vnd.google.colaboratory.intrinsic+json": {
              "type": "string"
            }
          },
          "metadata": {},
          "execution_count": 6
        }
      ]
    },
    {
      "cell_type": "code",
      "source": [
        "# Rating de la primera película\n",
        "\n",
        "resultado[0].findall('div')[0].findall('div')[0].findall(\"strong\")[0].text_content()"
      ],
      "metadata": {
        "colab": {
          "base_uri": "https://localhost:8080/",
          "height": 35
        },
        "id": "8XwjdZV7hGYO",
        "outputId": "52a74e49-c967-48fc-9804-41b26a717cfb"
      },
      "execution_count": null,
      "outputs": [
        {
          "output_type": "execute_result",
          "data": {
            "text/plain": [
              "'7.3'"
            ],
            "application/vnd.google.colaboratory.intrinsic+json": {
              "type": "string"
            }
          },
          "metadata": {},
          "execution_count": 7
        }
      ]
    },
    {
      "cell_type": "code",
      "source": [
        "# Número de votos de la primera película\n",
        "\n",
        "resultado[0].findall('p')[3].findall(\"span\")[1].text_content()"
      ],
      "metadata": {
        "colab": {
          "base_uri": "https://localhost:8080/",
          "height": 35
        },
        "id": "qgUFLUjjhGUc",
        "outputId": "ecadcaeb-b24f-4757-8cec-8d1842ae8f8d"
      },
      "execution_count": null,
      "outputs": [
        {
          "output_type": "execute_result",
          "data": {
            "text/plain": [
              "'90,326'"
            ],
            "application/vnd.google.colaboratory.intrinsic+json": {
              "type": "string"
            }
          },
          "metadata": {},
          "execution_count": 8
        }
      ]
    },
    {
      "cell_type": "markdown",
      "source": [
        "Es importante resaltar que en para llegar a los resultados anteriores se tuvo en cuenta el resultado de la página (para comparar resultados) y para encontrar el número de votos se iteró entre el tag `p` para poder encontrar el resultado ideal. Ya habiendo verificado los resultados obtenidos se puede proceder a realizar el bucle para presentar todos los resultados de las películas.\n",
        "\n",
        "Igualmente, se verificará si en cada lista (nombre, rating y votos) hay efectivamente 50 elementos, de lo contrario, hay datos faltantes:"
      ],
      "metadata": {
        "id": "gm8L8xn1ipyd"
      }
    },
    {
      "cell_type": "code",
      "source": [
        "cantidad_nombres = 0\n",
        "cantidad_rating = 0\n",
        "cantidad_votos = 0\n",
        "\n",
        "for i in range(len(resultado)):\n",
        "\n",
        "  try:\n",
        "    resultado[i].findall('h3')[0].findall(\"a\")[0].text_content()\n",
        "    cantidad_nombres += 1\n",
        "  except:\n",
        "    pass\n",
        "\n",
        "  try:\n",
        "    resultado[i].findall('div')[0].findall('div')[0].findall(\"strong\")[0].text_content()\n",
        "    cantidad_rating += 1\n",
        "  except:\n",
        "    pass\n",
        "\n",
        "  try:\n",
        "    resultado[i].findall('p')[3].findall(\"span\")[1].text_content()\n",
        "    cantidad_votos += 1\n",
        "  except:\n",
        "    pass\n",
        "\n",
        "cantidad_nombres\n",
        "cantidad_rating\n",
        "cantidad_votos\n",
        "\n",
        "print(f\"Cantidad nombres: {cantidad_nombres} \\nCantidad Rating: {cantidad_rating} \\nCantidad Votos: {cantidad_votos}\")"
      ],
      "metadata": {
        "colab": {
          "base_uri": "https://localhost:8080/"
        },
        "id": "YUFvUK7Kotpe",
        "outputId": "27ad82e6-4a9c-44c2-e45e-d642cab1aa08"
      },
      "execution_count": null,
      "outputs": [
        {
          "output_type": "stream",
          "name": "stdout",
          "text": [
            "Cantidad nombres: 50 \n",
            "Cantidad Rating: 49 \n",
            "Cantidad Votos: 49\n"
          ]
        }
      ]
    },
    {
      "cell_type": "markdown",
      "source": [
        "Gracias al script anterior se ve que hay una película que no cuenta con rating ni numero de votos. Por esto en el siguiente punto se imprimirán todos los nombres y cuando se presente un `IndexError` se imprimirá en pantalla el signo `-`."
      ],
      "metadata": {
        "id": "jliZrsF3pYIM"
      }
    },
    {
      "cell_type": "markdown",
      "source": [
        "## 3.2.6 Para cada búsqueda realizada: busquea_1, búsqueda_2 y búsqueda_3, revisa si la nueva lista obtenida tiene longitud mayor que cero y en caso positivo, selecciona el primer elemento de la lista y haz un print de su contenido de texto: `busqueda_1[0].text_content()`\n",
        "---"
      ],
      "metadata": {
        "id": "ehPdtI1Xr9cw"
      }
    },
    {
      "cell_type": "code",
      "source": [
        "for i in range(len(resultado)):\n",
        "\n",
        "  try:\n",
        "\n",
        "    nombre = resultado[i].findall('h3')[0].findall(\"a\")[0].text_content()\n",
        "    rating = resultado[i].findall('div')[0].findall('div')[0].findall(\"strong\")[0].text_content()\n",
        "    votos  = resultado[i].findall('p')[3].findall(\"span\")[1].text_content()\n",
        "\n",
        "  except IndexError:\n",
        "\n",
        "    print(f\"Nombre: {nombre}\".ljust(60), f\"Rating: -\".ljust(20), f\"# Votos: -\")\n",
        "\n",
        "    continue\n",
        "\n",
        "  print(f\"Nombre: {nombre}\".ljust(60), f\"Rating: {rating}\".ljust(20), f\"# Votos: {votos}\")"
      ],
      "metadata": {
        "colab": {
          "base_uri": "https://localhost:8080/"
        },
        "id": "DMV1QWb8hGNo",
        "outputId": "043fefc6-0e3a-4bab-c3f0-e078136cb166"
      },
      "execution_count": null,
      "outputs": [
        {
          "output_type": "stream",
          "name": "stdout",
          "text": [
            "Nombre: Babylon                                              Rating: 7.3          # Votos: 90,326\n",
            "Nombre: A Man Called Otto                                    Rating: 7.5          # Votos: 35,868\n",
            "Nombre: The Menu                                             Rating: 7.2          # Votos: 263,062\n",
            "Nombre: Puss in Boots: The Last Wish                         Rating: 7.9          # Votos: 96,859\n",
            "Nombre: Bullet Train                                         Rating: 7.3          # Votos: 315,797\n",
            "Nombre: The Unbearable Weight of Massive Talent              Rating: 7.0          # Votos: 104,518\n",
            "Nombre: Death in Paradise                                    Rating: 7.8          # Votos: 23,340\n",
            "Nombre: Haunted Mansion                                      Rating: -            # Votos: -\n",
            "Nombre: Friends                                              Rating: 8.9          # Votos: 1,013,769\n",
            "Nombre: Modern Family                                        Rating: 8.5          # Votos: 441,441\n",
            "Nombre: Bones                                                Rating: 7.8          # Votos: 164,040\n",
            "Nombre: Once Upon a Time in Hollywood                        Rating: 7.6          # Votos: 762,001\n",
            "Nombre: The Bear                                             Rating: 8.4          # Votos: 84,654\n",
            "Nombre: The Gentlemen                                        Rating: 7.8          # Votos: 351,953\n",
            "Nombre: Cobra Kai                                            Rating: 8.5          # Votos: 190,946\n",
            "Nombre: Knives Out                                           Rating: 7.9          # Votos: 713,415\n",
            "Nombre: Ant-Man and the Wasp                                 Rating: 7.0          # Votos: 416,598\n",
            "Nombre: Scrubs                                               Rating: 8.4          # Votos: 259,923\n",
            "Nombre: The Goonies                                          Rating: 7.7          # Votos: 280,332\n",
            "Nombre: Malcolm in the Middle                                Rating: 8.1          # Votos: 134,371\n",
            "Nombre: Encanto                                              Rating: 7.2          # Votos: 230,745\n",
            "Nombre: Mummies                                              Rating: 6.0          # Votos: 843\n",
            "Nombre: Shazam!                                              Rating: 7.0          # Votos: 348,300\n",
            "Nombre: The Lost City                                        Rating: 6.1          # Votos: 129,619\n",
            "Nombre: Clueless                                             Rating: 6.9          # Votos: 225,820\n",
            "Nombre: Puss in Boots                                        Rating: 6.6          # Votos: 176,080\n",
            "Nombre: Spider-Man: Into the Spider-Verse                    Rating: 8.4          # Votos: 546,492\n",
            "Nombre: A Man Called Ove                                     Rating: 7.7          # Votos: 60,837\n",
            "Nombre: Deadpool 2                                           Rating: 7.7          # Votos: 594,868\n",
            "Nombre: The Big Lebowski                                     Rating: 8.1          # Votos: 818,793\n",
            "Nombre: Baywatch                                             Rating: 5.5          # Votos: 191,207\n",
            "Nombre: Licorice Pizza                                       Rating: 7.2          # Votos: 123,356\n",
            "Nombre: The Bad Guys                                         Rating: 6.8          # Votos: 45,641\n",
            "Nombre: Bridesmaids                                          Rating: 6.8          # Votos: 296,675\n",
            "Nombre: We're the Millers                                    Rating: 7.0          # Votos: 458,407\n",
            "Nombre: Hustle                                               Rating: 7.3          # Votos: 127,393\n",
            "Nombre: The 40-Year-Old Virgin                               Rating: 7.1          # Votos: 445,827\n",
            "Nombre: 2 Broke Girls                                        Rating: 6.6          # Votos: 100,216\n",
            "Nombre: Knight and Day                                       Rating: 6.3          # Votos: 200,332\n",
            "Nombre: Major League                                         Rating: 7.2          # Votos: 71,743\n",
            "Nombre: Red Notice                                           Rating: 6.3          # Votos: 284,598\n",
            "Nombre: Are You                                              Rating: 5.7          # Votos: 1,187\n",
            "Nombre: Coco                                                 Rating: 8.4          # Votos: 522,143\n",
            "Nombre: Cashback                                             Rating: 7.1          # Votos: 88,509\n",
            "Nombre: Big                                                  Rating: 7.3          # Votos: 226,901\n",
            "Nombre: Grown Ups                                            Rating: 5.9          # Votos: 257,495\n",
            "Nombre: Zombieland                                           Rating: 7.6          # Votos: 587,942\n",
            "Nombre: Bardo: False Chronicle of a Handful of Truths        Rating: 6.7          # Votos: 11,938\n",
            "Nombre: Step Brothers                                        Rating: 6.9          # Votos: 301,985\n",
            "Nombre: Hercules                                             Rating: 7.3          # Votos: 237,477\n"
          ]
        }
      ]
    },
    {
      "cell_type": "markdown",
      "source": [
        "Con el output anterior se puede ver que la película *Haunted Masion* es la pelicula que no tiene rating ni votos. Es importante tener este punto en cuenta ya que de no ser así se pueden crear un dataframe con registros falsos."
      ],
      "metadata": {
        "id": "KqUO4Iw9qDjY"
      }
    },
    {
      "cell_type": "markdown",
      "source": [
        "## 3.2.7 Guarda los resultados obtenidos de forma iterativa en un data frame que tenga como resultado 50 filas y las 3 columnas con los datos solicitados en el apartado 1.\n",
        "---"
      ],
      "metadata": {
        "id": "CVdvDvy6I6F_"
      }
    },
    {
      "cell_type": "code",
      "source": [
        "# Creación de las listas que formarán las columnas del dataframe\n",
        "\n",
        "nombres = []\n",
        "ratings = []\n",
        "votos = []\n",
        "\n",
        "for i in range(len(resultado)):\n",
        "\n",
        "  try:\n",
        "    nombres.append(resultado[i].findall('h3')[0].findall(\"a\")[0].text_content())\n",
        "  except:\n",
        "    nombres.append(np.nan)\n",
        "\n",
        "  try:\n",
        "    ratings.append(resultado[i].findall('div')[0].findall('div')[0].findall(\"strong\")[0].text_content())\n",
        "  except:\n",
        "    ratings.append(np.nan)\n",
        "\n",
        "  try:\n",
        "    votos.append(resultado[i].findall('p')[3].findall(\"span\")[1].text_content())\n",
        "  except:\n",
        "    votos.append(np.nan)\n",
        "\n",
        "\n",
        "# Creación del Dataframe a partir de las columnas\n",
        "\n",
        "df_movies = pd.DataFrame(list(zip(nombres, ratings, votos)), columns=['Nombre', 'Rating', 'Votos'])\n",
        "\n",
        "\n",
        "# Modificación del dtype de las variables 'Rating' y 'Votos'\n",
        "\n",
        "df_movies['Rating'] = df_movies['Rating'].astype('float')\n",
        "df_movies['Votos'] = df_movies['Votos'].str.replace(',', '').astype(float)\n",
        "\n",
        "df_movies"
      ],
      "metadata": {
        "id": "TBzA1BiYhGAb",
        "colab": {
          "base_uri": "https://localhost:8080/",
          "height": 1000
        },
        "outputId": "0c2f04cc-5516-40f8-ede3-db4ee9b1971c"
      },
      "execution_count": null,
      "outputs": [
        {
          "output_type": "execute_result",
          "data": {
            "text/plain": [
              "                                           Nombre  Rating      Votos\n",
              "0                                         Babylon     7.3    90326.0\n",
              "1                               A Man Called Otto     7.5    35868.0\n",
              "2                                        The Menu     7.2   263062.0\n",
              "3                    Puss in Boots: The Last Wish     7.9    96859.0\n",
              "4                                    Bullet Train     7.3   315797.0\n",
              "5         The Unbearable Weight of Massive Talent     7.0   104518.0\n",
              "6                               Death in Paradise     7.8    23340.0\n",
              "7                                 Haunted Mansion     NaN        NaN\n",
              "8                                         Friends     8.9  1013769.0\n",
              "9                                   Modern Family     8.5   441441.0\n",
              "10                                          Bones     7.8   164040.0\n",
              "11                  Once Upon a Time in Hollywood     7.6   762001.0\n",
              "12                                       The Bear     8.4    84654.0\n",
              "13                                  The Gentlemen     7.8   351953.0\n",
              "14                                      Cobra Kai     8.5   190946.0\n",
              "15                                     Knives Out     7.9   713415.0\n",
              "16                           Ant-Man and the Wasp     7.0   416598.0\n",
              "17                                         Scrubs     8.4   259923.0\n",
              "18                                    The Goonies     7.7   280332.0\n",
              "19                          Malcolm in the Middle     8.1   134371.0\n",
              "20                                        Encanto     7.2   230745.0\n",
              "21                                        Mummies     6.0      843.0\n",
              "22                                        Shazam!     7.0   348300.0\n",
              "23                                  The Lost City     6.1   129619.0\n",
              "24                                       Clueless     6.9   225820.0\n",
              "25                                  Puss in Boots     6.6   176080.0\n",
              "26              Spider-Man: Into the Spider-Verse     8.4   546492.0\n",
              "27                               A Man Called Ove     7.7    60837.0\n",
              "28                                     Deadpool 2     7.7   594868.0\n",
              "29                               The Big Lebowski     8.1   818793.0\n",
              "30                                       Baywatch     5.5   191207.0\n",
              "31                                 Licorice Pizza     7.2   123356.0\n",
              "32                                   The Bad Guys     6.8    45641.0\n",
              "33                                    Bridesmaids     6.8   296675.0\n",
              "34                              We're the Millers     7.0   458407.0\n",
              "35                                         Hustle     7.3   127393.0\n",
              "36                         The 40-Year-Old Virgin     7.1   445827.0\n",
              "37                                  2 Broke Girls     6.6   100216.0\n",
              "38                                 Knight and Day     6.3   200332.0\n",
              "39                                   Major League     7.2    71743.0\n",
              "40                                     Red Notice     6.3   284598.0\n",
              "41                                        Are You     5.7     1187.0\n",
              "42                                           Coco     8.4   522143.0\n",
              "43                                       Cashback     7.1    88509.0\n",
              "44                                            Big     7.3   226901.0\n",
              "45                                      Grown Ups     5.9   257495.0\n",
              "46                                     Zombieland     7.6   587942.0\n",
              "47  Bardo: False Chronicle of a Handful of Truths     6.7    11938.0\n",
              "48                                  Step Brothers     6.9   301985.0\n",
              "49                                       Hercules     7.3   237477.0"
            ],
            "text/html": [
              "\n",
              "  <div id=\"df-32bfbbc5-206b-4bbd-910e-2e517264bcde\">\n",
              "    <div class=\"colab-df-container\">\n",
              "      <div>\n",
              "<style scoped>\n",
              "    .dataframe tbody tr th:only-of-type {\n",
              "        vertical-align: middle;\n",
              "    }\n",
              "\n",
              "    .dataframe tbody tr th {\n",
              "        vertical-align: top;\n",
              "    }\n",
              "\n",
              "    .dataframe thead th {\n",
              "        text-align: right;\n",
              "    }\n",
              "</style>\n",
              "<table border=\"1\" class=\"dataframe\">\n",
              "  <thead>\n",
              "    <tr style=\"text-align: right;\">\n",
              "      <th></th>\n",
              "      <th>Nombre</th>\n",
              "      <th>Rating</th>\n",
              "      <th>Votos</th>\n",
              "    </tr>\n",
              "  </thead>\n",
              "  <tbody>\n",
              "    <tr>\n",
              "      <th>0</th>\n",
              "      <td>Babylon</td>\n",
              "      <td>7.3</td>\n",
              "      <td>90326.0</td>\n",
              "    </tr>\n",
              "    <tr>\n",
              "      <th>1</th>\n",
              "      <td>A Man Called Otto</td>\n",
              "      <td>7.5</td>\n",
              "      <td>35868.0</td>\n",
              "    </tr>\n",
              "    <tr>\n",
              "      <th>2</th>\n",
              "      <td>The Menu</td>\n",
              "      <td>7.2</td>\n",
              "      <td>263062.0</td>\n",
              "    </tr>\n",
              "    <tr>\n",
              "      <th>3</th>\n",
              "      <td>Puss in Boots: The Last Wish</td>\n",
              "      <td>7.9</td>\n",
              "      <td>96859.0</td>\n",
              "    </tr>\n",
              "    <tr>\n",
              "      <th>4</th>\n",
              "      <td>Bullet Train</td>\n",
              "      <td>7.3</td>\n",
              "      <td>315797.0</td>\n",
              "    </tr>\n",
              "    <tr>\n",
              "      <th>5</th>\n",
              "      <td>The Unbearable Weight of Massive Talent</td>\n",
              "      <td>7.0</td>\n",
              "      <td>104518.0</td>\n",
              "    </tr>\n",
              "    <tr>\n",
              "      <th>6</th>\n",
              "      <td>Death in Paradise</td>\n",
              "      <td>7.8</td>\n",
              "      <td>23340.0</td>\n",
              "    </tr>\n",
              "    <tr>\n",
              "      <th>7</th>\n",
              "      <td>Haunted Mansion</td>\n",
              "      <td>NaN</td>\n",
              "      <td>NaN</td>\n",
              "    </tr>\n",
              "    <tr>\n",
              "      <th>8</th>\n",
              "      <td>Friends</td>\n",
              "      <td>8.9</td>\n",
              "      <td>1013769.0</td>\n",
              "    </tr>\n",
              "    <tr>\n",
              "      <th>9</th>\n",
              "      <td>Modern Family</td>\n",
              "      <td>8.5</td>\n",
              "      <td>441441.0</td>\n",
              "    </tr>\n",
              "    <tr>\n",
              "      <th>10</th>\n",
              "      <td>Bones</td>\n",
              "      <td>7.8</td>\n",
              "      <td>164040.0</td>\n",
              "    </tr>\n",
              "    <tr>\n",
              "      <th>11</th>\n",
              "      <td>Once Upon a Time in Hollywood</td>\n",
              "      <td>7.6</td>\n",
              "      <td>762001.0</td>\n",
              "    </tr>\n",
              "    <tr>\n",
              "      <th>12</th>\n",
              "      <td>The Bear</td>\n",
              "      <td>8.4</td>\n",
              "      <td>84654.0</td>\n",
              "    </tr>\n",
              "    <tr>\n",
              "      <th>13</th>\n",
              "      <td>The Gentlemen</td>\n",
              "      <td>7.8</td>\n",
              "      <td>351953.0</td>\n",
              "    </tr>\n",
              "    <tr>\n",
              "      <th>14</th>\n",
              "      <td>Cobra Kai</td>\n",
              "      <td>8.5</td>\n",
              "      <td>190946.0</td>\n",
              "    </tr>\n",
              "    <tr>\n",
              "      <th>15</th>\n",
              "      <td>Knives Out</td>\n",
              "      <td>7.9</td>\n",
              "      <td>713415.0</td>\n",
              "    </tr>\n",
              "    <tr>\n",
              "      <th>16</th>\n",
              "      <td>Ant-Man and the Wasp</td>\n",
              "      <td>7.0</td>\n",
              "      <td>416598.0</td>\n",
              "    </tr>\n",
              "    <tr>\n",
              "      <th>17</th>\n",
              "      <td>Scrubs</td>\n",
              "      <td>8.4</td>\n",
              "      <td>259923.0</td>\n",
              "    </tr>\n",
              "    <tr>\n",
              "      <th>18</th>\n",
              "      <td>The Goonies</td>\n",
              "      <td>7.7</td>\n",
              "      <td>280332.0</td>\n",
              "    </tr>\n",
              "    <tr>\n",
              "      <th>19</th>\n",
              "      <td>Malcolm in the Middle</td>\n",
              "      <td>8.1</td>\n",
              "      <td>134371.0</td>\n",
              "    </tr>\n",
              "    <tr>\n",
              "      <th>20</th>\n",
              "      <td>Encanto</td>\n",
              "      <td>7.2</td>\n",
              "      <td>230745.0</td>\n",
              "    </tr>\n",
              "    <tr>\n",
              "      <th>21</th>\n",
              "      <td>Mummies</td>\n",
              "      <td>6.0</td>\n",
              "      <td>843.0</td>\n",
              "    </tr>\n",
              "    <tr>\n",
              "      <th>22</th>\n",
              "      <td>Shazam!</td>\n",
              "      <td>7.0</td>\n",
              "      <td>348300.0</td>\n",
              "    </tr>\n",
              "    <tr>\n",
              "      <th>23</th>\n",
              "      <td>The Lost City</td>\n",
              "      <td>6.1</td>\n",
              "      <td>129619.0</td>\n",
              "    </tr>\n",
              "    <tr>\n",
              "      <th>24</th>\n",
              "      <td>Clueless</td>\n",
              "      <td>6.9</td>\n",
              "      <td>225820.0</td>\n",
              "    </tr>\n",
              "    <tr>\n",
              "      <th>25</th>\n",
              "      <td>Puss in Boots</td>\n",
              "      <td>6.6</td>\n",
              "      <td>176080.0</td>\n",
              "    </tr>\n",
              "    <tr>\n",
              "      <th>26</th>\n",
              "      <td>Spider-Man: Into the Spider-Verse</td>\n",
              "      <td>8.4</td>\n",
              "      <td>546492.0</td>\n",
              "    </tr>\n",
              "    <tr>\n",
              "      <th>27</th>\n",
              "      <td>A Man Called Ove</td>\n",
              "      <td>7.7</td>\n",
              "      <td>60837.0</td>\n",
              "    </tr>\n",
              "    <tr>\n",
              "      <th>28</th>\n",
              "      <td>Deadpool 2</td>\n",
              "      <td>7.7</td>\n",
              "      <td>594868.0</td>\n",
              "    </tr>\n",
              "    <tr>\n",
              "      <th>29</th>\n",
              "      <td>The Big Lebowski</td>\n",
              "      <td>8.1</td>\n",
              "      <td>818793.0</td>\n",
              "    </tr>\n",
              "    <tr>\n",
              "      <th>30</th>\n",
              "      <td>Baywatch</td>\n",
              "      <td>5.5</td>\n",
              "      <td>191207.0</td>\n",
              "    </tr>\n",
              "    <tr>\n",
              "      <th>31</th>\n",
              "      <td>Licorice Pizza</td>\n",
              "      <td>7.2</td>\n",
              "      <td>123356.0</td>\n",
              "    </tr>\n",
              "    <tr>\n",
              "      <th>32</th>\n",
              "      <td>The Bad Guys</td>\n",
              "      <td>6.8</td>\n",
              "      <td>45641.0</td>\n",
              "    </tr>\n",
              "    <tr>\n",
              "      <th>33</th>\n",
              "      <td>Bridesmaids</td>\n",
              "      <td>6.8</td>\n",
              "      <td>296675.0</td>\n",
              "    </tr>\n",
              "    <tr>\n",
              "      <th>34</th>\n",
              "      <td>We're the Millers</td>\n",
              "      <td>7.0</td>\n",
              "      <td>458407.0</td>\n",
              "    </tr>\n",
              "    <tr>\n",
              "      <th>35</th>\n",
              "      <td>Hustle</td>\n",
              "      <td>7.3</td>\n",
              "      <td>127393.0</td>\n",
              "    </tr>\n",
              "    <tr>\n",
              "      <th>36</th>\n",
              "      <td>The 40-Year-Old Virgin</td>\n",
              "      <td>7.1</td>\n",
              "      <td>445827.0</td>\n",
              "    </tr>\n",
              "    <tr>\n",
              "      <th>37</th>\n",
              "      <td>2 Broke Girls</td>\n",
              "      <td>6.6</td>\n",
              "      <td>100216.0</td>\n",
              "    </tr>\n",
              "    <tr>\n",
              "      <th>38</th>\n",
              "      <td>Knight and Day</td>\n",
              "      <td>6.3</td>\n",
              "      <td>200332.0</td>\n",
              "    </tr>\n",
              "    <tr>\n",
              "      <th>39</th>\n",
              "      <td>Major League</td>\n",
              "      <td>7.2</td>\n",
              "      <td>71743.0</td>\n",
              "    </tr>\n",
              "    <tr>\n",
              "      <th>40</th>\n",
              "      <td>Red Notice</td>\n",
              "      <td>6.3</td>\n",
              "      <td>284598.0</td>\n",
              "    </tr>\n",
              "    <tr>\n",
              "      <th>41</th>\n",
              "      <td>Are You</td>\n",
              "      <td>5.7</td>\n",
              "      <td>1187.0</td>\n",
              "    </tr>\n",
              "    <tr>\n",
              "      <th>42</th>\n",
              "      <td>Coco</td>\n",
              "      <td>8.4</td>\n",
              "      <td>522143.0</td>\n",
              "    </tr>\n",
              "    <tr>\n",
              "      <th>43</th>\n",
              "      <td>Cashback</td>\n",
              "      <td>7.1</td>\n",
              "      <td>88509.0</td>\n",
              "    </tr>\n",
              "    <tr>\n",
              "      <th>44</th>\n",
              "      <td>Big</td>\n",
              "      <td>7.3</td>\n",
              "      <td>226901.0</td>\n",
              "    </tr>\n",
              "    <tr>\n",
              "      <th>45</th>\n",
              "      <td>Grown Ups</td>\n",
              "      <td>5.9</td>\n",
              "      <td>257495.0</td>\n",
              "    </tr>\n",
              "    <tr>\n",
              "      <th>46</th>\n",
              "      <td>Zombieland</td>\n",
              "      <td>7.6</td>\n",
              "      <td>587942.0</td>\n",
              "    </tr>\n",
              "    <tr>\n",
              "      <th>47</th>\n",
              "      <td>Bardo: False Chronicle of a Handful of Truths</td>\n",
              "      <td>6.7</td>\n",
              "      <td>11938.0</td>\n",
              "    </tr>\n",
              "    <tr>\n",
              "      <th>48</th>\n",
              "      <td>Step Brothers</td>\n",
              "      <td>6.9</td>\n",
              "      <td>301985.0</td>\n",
              "    </tr>\n",
              "    <tr>\n",
              "      <th>49</th>\n",
              "      <td>Hercules</td>\n",
              "      <td>7.3</td>\n",
              "      <td>237477.0</td>\n",
              "    </tr>\n",
              "  </tbody>\n",
              "</table>\n",
              "</div>\n",
              "      <button class=\"colab-df-convert\" onclick=\"convertToInteractive('df-32bfbbc5-206b-4bbd-910e-2e517264bcde')\"\n",
              "              title=\"Convert this dataframe to an interactive table.\"\n",
              "              style=\"display:none;\">\n",
              "        \n",
              "  <svg xmlns=\"http://www.w3.org/2000/svg\" height=\"24px\"viewBox=\"0 0 24 24\"\n",
              "       width=\"24px\">\n",
              "    <path d=\"M0 0h24v24H0V0z\" fill=\"none\"/>\n",
              "    <path d=\"M18.56 5.44l.94 2.06.94-2.06 2.06-.94-2.06-.94-.94-2.06-.94 2.06-2.06.94zm-11 1L8.5 8.5l.94-2.06 2.06-.94-2.06-.94L8.5 2.5l-.94 2.06-2.06.94zm10 10l.94 2.06.94-2.06 2.06-.94-2.06-.94-.94-2.06-.94 2.06-2.06.94z\"/><path d=\"M17.41 7.96l-1.37-1.37c-.4-.4-.92-.59-1.43-.59-.52 0-1.04.2-1.43.59L10.3 9.45l-7.72 7.72c-.78.78-.78 2.05 0 2.83L4 21.41c.39.39.9.59 1.41.59.51 0 1.02-.2 1.41-.59l7.78-7.78 2.81-2.81c.8-.78.8-2.07 0-2.86zM5.41 20L4 18.59l7.72-7.72 1.47 1.35L5.41 20z\"/>\n",
              "  </svg>\n",
              "      </button>\n",
              "      \n",
              "  <style>\n",
              "    .colab-df-container {\n",
              "      display:flex;\n",
              "      flex-wrap:wrap;\n",
              "      gap: 12px;\n",
              "    }\n",
              "\n",
              "    .colab-df-convert {\n",
              "      background-color: #E8F0FE;\n",
              "      border: none;\n",
              "      border-radius: 50%;\n",
              "      cursor: pointer;\n",
              "      display: none;\n",
              "      fill: #1967D2;\n",
              "      height: 32px;\n",
              "      padding: 0 0 0 0;\n",
              "      width: 32px;\n",
              "    }\n",
              "\n",
              "    .colab-df-convert:hover {\n",
              "      background-color: #E2EBFA;\n",
              "      box-shadow: 0px 1px 2px rgba(60, 64, 67, 0.3), 0px 1px 3px 1px rgba(60, 64, 67, 0.15);\n",
              "      fill: #174EA6;\n",
              "    }\n",
              "\n",
              "    [theme=dark] .colab-df-convert {\n",
              "      background-color: #3B4455;\n",
              "      fill: #D2E3FC;\n",
              "    }\n",
              "\n",
              "    [theme=dark] .colab-df-convert:hover {\n",
              "      background-color: #434B5C;\n",
              "      box-shadow: 0px 1px 3px 1px rgba(0, 0, 0, 0.15);\n",
              "      filter: drop-shadow(0px 1px 2px rgba(0, 0, 0, 0.3));\n",
              "      fill: #FFFFFF;\n",
              "    }\n",
              "  </style>\n",
              "\n",
              "      <script>\n",
              "        const buttonEl =\n",
              "          document.querySelector('#df-32bfbbc5-206b-4bbd-910e-2e517264bcde button.colab-df-convert');\n",
              "        buttonEl.style.display =\n",
              "          google.colab.kernel.accessAllowed ? 'block' : 'none';\n",
              "\n",
              "        async function convertToInteractive(key) {\n",
              "          const element = document.querySelector('#df-32bfbbc5-206b-4bbd-910e-2e517264bcde');\n",
              "          const dataTable =\n",
              "            await google.colab.kernel.invokeFunction('convertToInteractive',\n",
              "                                                     [key], {});\n",
              "          if (!dataTable) return;\n",
              "\n",
              "          const docLinkHtml = 'Like what you see? Visit the ' +\n",
              "            '<a target=\"_blank\" href=https://colab.research.google.com/notebooks/data_table.ipynb>data table notebook</a>'\n",
              "            + ' to learn more about interactive tables.';\n",
              "          element.innerHTML = '';\n",
              "          dataTable['output_type'] = 'display_data';\n",
              "          await google.colab.output.renderOutput(dataTable, element);\n",
              "          const docLink = document.createElement('div');\n",
              "          docLink.innerHTML = docLinkHtml;\n",
              "          element.appendChild(docLink);\n",
              "        }\n",
              "      </script>\n",
              "    </div>\n",
              "  </div>\n",
              "  "
            ]
          },
          "metadata": {},
          "execution_count": 11
        }
      ]
    },
    {
      "cell_type": "code",
      "source": [
        "df_movies.info()"
      ],
      "metadata": {
        "id": "kBn73qLohF7M",
        "colab": {
          "base_uri": "https://localhost:8080/"
        },
        "outputId": "d0793b38-0102-410a-8593-82d72a56d2df"
      },
      "execution_count": null,
      "outputs": [
        {
          "output_type": "stream",
          "name": "stdout",
          "text": [
            "<class 'pandas.core.frame.DataFrame'>\n",
            "RangeIndex: 50 entries, 0 to 49\n",
            "Data columns (total 3 columns):\n",
            " #   Column  Non-Null Count  Dtype  \n",
            "---  ------  --------------  -----  \n",
            " 0   Nombre  50 non-null     object \n",
            " 1   Rating  49 non-null     float64\n",
            " 2   Votos   49 non-null     float64\n",
            "dtypes: float64(2), object(1)\n",
            "memory usage: 1.3+ KB\n"
          ]
        }
      ]
    }
  ]
}